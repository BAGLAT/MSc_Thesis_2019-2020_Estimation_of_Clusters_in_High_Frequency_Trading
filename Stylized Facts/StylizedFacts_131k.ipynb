{
 "cells": [
  {
   "cell_type": "code",
   "execution_count": 1,
   "metadata": {},
   "outputs": [],
   "source": [
    "import pandas as pd\n",
    "import numpy as np\n",
    "import matplotlib.pyplot as plt\n",
    "import scipy.stats\n",
    "import pylab\n",
    "import statsmodels.graphics.tsaplots as sgt\n",
    "import seaborn as sns"
   ]
  },
  {
   "cell_type": "code",
   "execution_count": 2,
   "metadata": {},
   "outputs": [],
   "source": [
    "df = pd.read_csv(\"131k.csv\")"
   ]
  },
  {
   "cell_type": "code",
   "execution_count": 3,
   "metadata": {},
   "outputs": [
    {
     "data": {
      "text/html": [
       "<div>\n",
       "<style scoped>\n",
       "    .dataframe tbody tr th:only-of-type {\n",
       "        vertical-align: middle;\n",
       "    }\n",
       "\n",
       "    .dataframe tbody tr th {\n",
       "        vertical-align: top;\n",
       "    }\n",
       "\n",
       "    .dataframe thead th {\n",
       "        text-align: right;\n",
       "    }\n",
       "</style>\n",
       "<table border=\"1\" class=\"dataframe\">\n",
       "  <thead>\n",
       "    <tr style=\"text-align: right;\">\n",
       "      <th></th>\n",
       "      <th>datetime</th>\n",
       "      <th>close</th>\n",
       "    </tr>\n",
       "  </thead>\n",
       "  <tbody>\n",
       "    <tr>\n",
       "      <th>0</th>\n",
       "      <td>2019-01-01 18:02:00</td>\n",
       "      <td>2501.25</td>\n",
       "    </tr>\n",
       "    <tr>\n",
       "      <th>1</th>\n",
       "      <td>2019-01-01 18:03:00</td>\n",
       "      <td>2504.50</td>\n",
       "    </tr>\n",
       "    <tr>\n",
       "      <th>2</th>\n",
       "      <td>2019-01-01 18:04:00</td>\n",
       "      <td>2508.50</td>\n",
       "    </tr>\n",
       "    <tr>\n",
       "      <th>3</th>\n",
       "      <td>2019-01-01 18:05:00</td>\n",
       "      <td>2507.25</td>\n",
       "    </tr>\n",
       "    <tr>\n",
       "      <th>4</th>\n",
       "      <td>2019-01-01 18:06:00</td>\n",
       "      <td>2507.50</td>\n",
       "    </tr>\n",
       "    <tr>\n",
       "      <th>...</th>\n",
       "      <td>...</td>\n",
       "      <td>...</td>\n",
       "    </tr>\n",
       "    <tr>\n",
       "      <th>131067</th>\n",
       "      <td>2019-05-17 08:45:00</td>\n",
       "      <td>2847.25</td>\n",
       "    </tr>\n",
       "    <tr>\n",
       "      <th>131068</th>\n",
       "      <td>2019-05-17 08:46:00</td>\n",
       "      <td>2847.50</td>\n",
       "    </tr>\n",
       "    <tr>\n",
       "      <th>131069</th>\n",
       "      <td>2019-05-17 08:47:00</td>\n",
       "      <td>2847.00</td>\n",
       "    </tr>\n",
       "    <tr>\n",
       "      <th>131070</th>\n",
       "      <td>2019-05-17 08:48:00</td>\n",
       "      <td>2847.00</td>\n",
       "    </tr>\n",
       "    <tr>\n",
       "      <th>131071</th>\n",
       "      <td>2019-05-17 08:49:00</td>\n",
       "      <td>2846.25</td>\n",
       "    </tr>\n",
       "  </tbody>\n",
       "</table>\n",
       "<p>131072 rows × 2 columns</p>\n",
       "</div>"
      ],
      "text/plain": [
       "                   datetime    close\n",
       "0       2019-01-01 18:02:00  2501.25\n",
       "1       2019-01-01 18:03:00  2504.50\n",
       "2       2019-01-01 18:04:00  2508.50\n",
       "3       2019-01-01 18:05:00  2507.25\n",
       "4       2019-01-01 18:06:00  2507.50\n",
       "...                     ...      ...\n",
       "131067  2019-05-17 08:45:00  2847.25\n",
       "131068  2019-05-17 08:46:00  2847.50\n",
       "131069  2019-05-17 08:47:00  2847.00\n",
       "131070  2019-05-17 08:48:00  2847.00\n",
       "131071  2019-05-17 08:49:00  2846.25\n",
       "\n",
       "[131072 rows x 2 columns]"
      ]
     },
     "execution_count": 3,
     "metadata": {},
     "output_type": "execute_result"
    }
   ],
   "source": [
    "df"
   ]
  },
  {
   "cell_type": "code",
   "execution_count": 4,
   "metadata": {},
   "outputs": [],
   "source": [
    "df2 = df.set_index('datetime')"
   ]
  },
  {
   "cell_type": "code",
   "execution_count": 5,
   "metadata": {},
   "outputs": [
    {
     "data": {
      "text/html": [
       "<div>\n",
       "<style scoped>\n",
       "    .dataframe tbody tr th:only-of-type {\n",
       "        vertical-align: middle;\n",
       "    }\n",
       "\n",
       "    .dataframe tbody tr th {\n",
       "        vertical-align: top;\n",
       "    }\n",
       "\n",
       "    .dataframe thead th {\n",
       "        text-align: right;\n",
       "    }\n",
       "</style>\n",
       "<table border=\"1\" class=\"dataframe\">\n",
       "  <thead>\n",
       "    <tr style=\"text-align: right;\">\n",
       "      <th></th>\n",
       "      <th>close</th>\n",
       "    </tr>\n",
       "    <tr>\n",
       "      <th>datetime</th>\n",
       "      <th></th>\n",
       "    </tr>\n",
       "  </thead>\n",
       "  <tbody>\n",
       "    <tr>\n",
       "      <th>2019-01-01 18:02:00</th>\n",
       "      <td>2501.25</td>\n",
       "    </tr>\n",
       "    <tr>\n",
       "      <th>2019-01-01 18:03:00</th>\n",
       "      <td>2504.50</td>\n",
       "    </tr>\n",
       "    <tr>\n",
       "      <th>2019-01-01 18:04:00</th>\n",
       "      <td>2508.50</td>\n",
       "    </tr>\n",
       "    <tr>\n",
       "      <th>2019-01-01 18:05:00</th>\n",
       "      <td>2507.25</td>\n",
       "    </tr>\n",
       "    <tr>\n",
       "      <th>2019-01-01 18:06:00</th>\n",
       "      <td>2507.50</td>\n",
       "    </tr>\n",
       "    <tr>\n",
       "      <th>...</th>\n",
       "      <td>...</td>\n",
       "    </tr>\n",
       "    <tr>\n",
       "      <th>2019-05-17 08:45:00</th>\n",
       "      <td>2847.25</td>\n",
       "    </tr>\n",
       "    <tr>\n",
       "      <th>2019-05-17 08:46:00</th>\n",
       "      <td>2847.50</td>\n",
       "    </tr>\n",
       "    <tr>\n",
       "      <th>2019-05-17 08:47:00</th>\n",
       "      <td>2847.00</td>\n",
       "    </tr>\n",
       "    <tr>\n",
       "      <th>2019-05-17 08:48:00</th>\n",
       "      <td>2847.00</td>\n",
       "    </tr>\n",
       "    <tr>\n",
       "      <th>2019-05-17 08:49:00</th>\n",
       "      <td>2846.25</td>\n",
       "    </tr>\n",
       "  </tbody>\n",
       "</table>\n",
       "<p>131072 rows × 1 columns</p>\n",
       "</div>"
      ],
      "text/plain": [
       "                       close\n",
       "datetime                    \n",
       "2019-01-01 18:02:00  2501.25\n",
       "2019-01-01 18:03:00  2504.50\n",
       "2019-01-01 18:04:00  2508.50\n",
       "2019-01-01 18:05:00  2507.25\n",
       "2019-01-01 18:06:00  2507.50\n",
       "...                      ...\n",
       "2019-05-17 08:45:00  2847.25\n",
       "2019-05-17 08:46:00  2847.50\n",
       "2019-05-17 08:47:00  2847.00\n",
       "2019-05-17 08:48:00  2847.00\n",
       "2019-05-17 08:49:00  2846.25\n",
       "\n",
       "[131072 rows x 1 columns]"
      ]
     },
     "execution_count": 5,
     "metadata": {},
     "output_type": "execute_result"
    }
   ],
   "source": [
    "df2"
   ]
  },
  {
   "cell_type": "code",
   "execution_count": 6,
   "metadata": {},
   "outputs": [],
   "source": [
    "df2['logReturn'] = np.log(df2.close/df2.close.shift(1))"
   ]
  },
  {
   "cell_type": "code",
   "execution_count": 7,
   "metadata": {},
   "outputs": [],
   "source": [
    "df2['sqrd_return'] = df2['logReturn']**2"
   ]
  },
  {
   "cell_type": "code",
   "execution_count": 8,
   "metadata": {},
   "outputs": [],
   "source": [
    "df2['abs_return'] = df2['logReturn'].abs()"
   ]
  },
  {
   "cell_type": "code",
   "execution_count": 9,
   "metadata": {},
   "outputs": [
    {
     "data": {
      "text/html": [
       "<div>\n",
       "<style scoped>\n",
       "    .dataframe tbody tr th:only-of-type {\n",
       "        vertical-align: middle;\n",
       "    }\n",
       "\n",
       "    .dataframe tbody tr th {\n",
       "        vertical-align: top;\n",
       "    }\n",
       "\n",
       "    .dataframe thead th {\n",
       "        text-align: right;\n",
       "    }\n",
       "</style>\n",
       "<table border=\"1\" class=\"dataframe\">\n",
       "  <thead>\n",
       "    <tr style=\"text-align: right;\">\n",
       "      <th></th>\n",
       "      <th>close</th>\n",
       "      <th>logReturn</th>\n",
       "      <th>sqrd_return</th>\n",
       "      <th>abs_return</th>\n",
       "    </tr>\n",
       "    <tr>\n",
       "      <th>datetime</th>\n",
       "      <th></th>\n",
       "      <th></th>\n",
       "      <th></th>\n",
       "      <th></th>\n",
       "    </tr>\n",
       "  </thead>\n",
       "  <tbody>\n",
       "    <tr>\n",
       "      <th>2019-01-01 18:02:00</th>\n",
       "      <td>2501.25</td>\n",
       "      <td>NaN</td>\n",
       "      <td>NaN</td>\n",
       "      <td>NaN</td>\n",
       "    </tr>\n",
       "    <tr>\n",
       "      <th>2019-01-01 18:03:00</th>\n",
       "      <td>2504.50</td>\n",
       "      <td>0.001299</td>\n",
       "      <td>1.686120e-06</td>\n",
       "      <td>0.001299</td>\n",
       "    </tr>\n",
       "    <tr>\n",
       "      <th>2019-01-01 18:04:00</th>\n",
       "      <td>2508.50</td>\n",
       "      <td>0.001596</td>\n",
       "      <td>2.546741e-06</td>\n",
       "      <td>0.001596</td>\n",
       "    </tr>\n",
       "    <tr>\n",
       "      <th>2019-01-01 18:05:00</th>\n",
       "      <td>2507.25</td>\n",
       "      <td>-0.000498</td>\n",
       "      <td>2.484324e-07</td>\n",
       "      <td>0.000498</td>\n",
       "    </tr>\n",
       "    <tr>\n",
       "      <th>2019-01-01 18:06:00</th>\n",
       "      <td>2507.50</td>\n",
       "      <td>0.000100</td>\n",
       "      <td>9.941260e-09</td>\n",
       "      <td>0.000100</td>\n",
       "    </tr>\n",
       "    <tr>\n",
       "      <th>...</th>\n",
       "      <td>...</td>\n",
       "      <td>...</td>\n",
       "      <td>...</td>\n",
       "      <td>...</td>\n",
       "    </tr>\n",
       "    <tr>\n",
       "      <th>2019-05-17 08:45:00</th>\n",
       "      <td>2847.25</td>\n",
       "      <td>-0.000176</td>\n",
       "      <td>3.083277e-08</td>\n",
       "      <td>0.000176</td>\n",
       "    </tr>\n",
       "    <tr>\n",
       "      <th>2019-05-17 08:46:00</th>\n",
       "      <td>2847.50</td>\n",
       "      <td>0.000088</td>\n",
       "      <td>7.708869e-09</td>\n",
       "      <td>0.000088</td>\n",
       "    </tr>\n",
       "    <tr>\n",
       "      <th>2019-05-17 08:47:00</th>\n",
       "      <td>2847.00</td>\n",
       "      <td>-0.000176</td>\n",
       "      <td>3.083818e-08</td>\n",
       "      <td>0.000176</td>\n",
       "    </tr>\n",
       "    <tr>\n",
       "      <th>2019-05-17 08:48:00</th>\n",
       "      <td>2847.00</td>\n",
       "      <td>0.000000</td>\n",
       "      <td>0.000000e+00</td>\n",
       "      <td>0.000000</td>\n",
       "    </tr>\n",
       "    <tr>\n",
       "      <th>2019-05-17 08:49:00</th>\n",
       "      <td>2846.25</td>\n",
       "      <td>-0.000263</td>\n",
       "      <td>6.941639e-08</td>\n",
       "      <td>0.000263</td>\n",
       "    </tr>\n",
       "  </tbody>\n",
       "</table>\n",
       "<p>131072 rows × 4 columns</p>\n",
       "</div>"
      ],
      "text/plain": [
       "                       close  logReturn   sqrd_return  abs_return\n",
       "datetime                                                         \n",
       "2019-01-01 18:02:00  2501.25        NaN           NaN         NaN\n",
       "2019-01-01 18:03:00  2504.50   0.001299  1.686120e-06    0.001299\n",
       "2019-01-01 18:04:00  2508.50   0.001596  2.546741e-06    0.001596\n",
       "2019-01-01 18:05:00  2507.25  -0.000498  2.484324e-07    0.000498\n",
       "2019-01-01 18:06:00  2507.50   0.000100  9.941260e-09    0.000100\n",
       "...                      ...        ...           ...         ...\n",
       "2019-05-17 08:45:00  2847.25  -0.000176  3.083277e-08    0.000176\n",
       "2019-05-17 08:46:00  2847.50   0.000088  7.708869e-09    0.000088\n",
       "2019-05-17 08:47:00  2847.00  -0.000176  3.083818e-08    0.000176\n",
       "2019-05-17 08:48:00  2847.00   0.000000  0.000000e+00    0.000000\n",
       "2019-05-17 08:49:00  2846.25  -0.000263  6.941639e-08    0.000263\n",
       "\n",
       "[131072 rows x 4 columns]"
      ]
     },
     "execution_count": 9,
     "metadata": {},
     "output_type": "execute_result"
    }
   ],
   "source": [
    "df2"
   ]
  },
  {
   "cell_type": "code",
   "execution_count": 10,
   "metadata": {},
   "outputs": [
    {
     "data": {
      "text/plain": [
       "<matplotlib.axes._subplots.AxesSubplot at 0x16bb04b57b8>"
      ]
     },
     "execution_count": 10,
     "metadata": {},
     "output_type": "execute_result"
    },
    {
     "data": {
      "image/png": "[encoded data removed]",
      "text/plain": [
       "<Figure size 432x288 with 1 Axes>"
      ]
     },
     "metadata": {
      "needs_background": "light"
     },
     "output_type": "display_data"
    }
   ],
   "source": [
    "df2['logReturn'].plot()"
   ]
  },
  {
   "cell_type": "code",
   "execution_count": 11,
   "metadata": {},
   "outputs": [],
   "source": [
    "def zscore(returns):\n",
    "    return (returns-returns.mean())/np.std(returns)"
   ]
  },
  {
   "cell_type": "code",
   "execution_count": 12,
   "metadata": {},
   "outputs": [],
   "source": [
    "normalized = zscore(df2.logReturn)"
   ]
  },
  {
   "cell_type": "code",
   "execution_count": 13,
   "metadata": {},
   "outputs": [
    {
     "data": {
      "text/plain": [
       "Text(0, 0.5, 'Normalized Returns')"
      ]
     },
     "execution_count": 13,
     "metadata": {},
     "output_type": "execute_result"
    },
    {
     "data": {
      "image/png": "[encoded data removed]",
      "text/plain": [
       "<Figure size 1008x576 with 1 Axes>"
      ]
     },
     "metadata": {
      "needs_background": "light"
     },
     "output_type": "display_data"
    }
   ],
   "source": [
    "normalized.plot(figsize=(14,8),label='Standardized Returns',color='orange')\n",
    "plt.axhline(normalized.std()*3,color='blue',ls='--')\n",
    "plt.axhline(normalized.std()*5,color='black',ls='--')\n",
    "plt.axhline(normalized.std()*-5,color='black',label='5 SD',ls='--')\n",
    "plt.axhline(normalized.std()*-3,color='blue',label='3 SD',ls='--')\n",
    "plt.axhline(normalized.std(),color='red',ls='--')\n",
    "plt.axhline(normalized.std()*-1,color='red',ls='--',label='1 SD')\n",
    "plt.axhline(normalized.mean(),color='green',label='Mean')\n",
    "plt.legend()\n",
    "plt.ylabel(\"Normalized Returns\",size=10)"
   ]
  },
  {
   "cell_type": "code",
   "execution_count": null,
   "metadata": {},
   "outputs": [],
   "source": []
  },
  {
   "cell_type": "code",
   "execution_count": 14,
   "metadata": {},
   "outputs": [
    {
     "data": {
      "text/plain": [
       "Text(0.5, 1.0, 'ACF LAG for Prices')"
      ]
     },
     "execution_count": 14,
     "metadata": {},
     "output_type": "execute_result"
    },
    {
     "data": {
      "text/plain": [
       "<Figure size 2160x1440 with 0 Axes>"
      ]
     },
     "metadata": {},
     "output_type": "display_data"
    },
    {
     "data": {
      "image/png": "[encoded data removed]",
      "text/plain": [
       "<Figure size 432x288 with 1 Axes>"
      ]
     },
     "metadata": {
      "needs_background": "light"
     },
     "output_type": "display_data"
    }
   ],
   "source": [
    "plt.figure(figsize = (30,20))\n",
    "sgt.plot_acf(df2.close,lags=40,zero=False)\n",
    "plt.xlabel('Lags')\n",
    "plt.ylabel('Correlation Coefficients')\n",
    "plt.title(\"ACF LAG for Prices\")"
   ]
  },
  {
   "cell_type": "code",
   "execution_count": 15,
   "metadata": {},
   "outputs": [
    {
     "data": {
      "text/plain": [
       "Text(0.5, 1.0, 'ACF LAG for Log Returns')"
      ]
     },
     "execution_count": 15,
     "metadata": {},
     "output_type": "execute_result"
    },
    {
     "data": {
      "text/plain": [
       "<Figure size 2160x1440 with 0 Axes>"
      ]
     },
     "metadata": {},
     "output_type": "display_data"
    },
    {
     "data": {
      "image/png": "[encoded data removed]",
      "text/plain": [
       "<Figure size 432x288 with 1 Axes>"
      ]
     },
     "metadata": {
      "needs_background": "light"
     },
     "output_type": "display_data"
    }
   ],
   "source": [
    "plt.figure(figsize = (30,20))\n",
    "sgt.plot_acf(df2.logReturn[1:],lags=40,zero=False)\n",
    "plt.xlabel('Lags')\n",
    "plt.ylabel('Correlation Coefficients')\n",
    "plt.title(\"ACF LAG for Log Returns\")"
   ]
  },
  {
   "cell_type": "code",
   "execution_count": 43,
   "metadata": {},
   "outputs": [
    {
     "data": {
      "text/plain": [
       "Text(0.5, 1.0, 'ACF LAG for Squarred Log Returns')"
      ]
     },
     "execution_count": 43,
     "metadata": {},
     "output_type": "execute_result"
    },
    {
     "data": {
      "text/plain": [
       "<Figure size 2160x1440 with 0 Axes>"
      ]
     },
     "metadata": {},
     "output_type": "display_data"
    },
    {
     "data": {
      "image/png": "[encoded data removed]",
      "text/plain": [
       "<Figure size 432x288 with 1 Axes>"
      ]
     },
     "metadata": {
      "needs_background": "light"
     },
     "output_type": "display_data"
    }
   ],
   "source": [
    "plt.figure(figsize = (30,20))\n",
    "sgt.plot_acf(df2.sqrd_return[1:],lags=40,zero=False)\n",
    "plt.xlabel('Lags')\n",
    "plt.ylabel('Correlation Coefficients')\n",
    "plt.title(\"ACF LAG for Squarred Log Returns\")"
   ]
  },
  {
   "cell_type": "code",
   "execution_count": 48,
   "metadata": {},
   "outputs": [],
   "source": [
    "#df2.to_csv(\"HFT_65536_Futures.csv\")"
   ]
  },
  {
   "cell_type": "code",
   "execution_count": 44,
   "metadata": {},
   "outputs": [
    {
     "data": {
      "text/plain": [
       "Text(0.5, 1.0, 'ACF LAG for Absolute Log Returns')"
      ]
     },
     "execution_count": 44,
     "metadata": {},
     "output_type": "execute_result"
    },
    {
     "data": {
      "text/plain": [
       "<Figure size 2160x1440 with 0 Axes>"
      ]
     },
     "metadata": {},
     "output_type": "display_data"
    },
    {
     "data": {
      "image/png": "[encoded data removed]",
      "text/plain": [
       "<Figure size 432x288 with 1 Axes>"
      ]
     },
     "metadata": {
      "needs_background": "light"
     },
     "output_type": "display_data"
    }
   ],
   "source": [
    "plt.figure(figsize = (30,20))\n",
    "sgt.plot_acf(df2.abs_return[1:],lags=40,zero=False)\n",
    "plt.xlabel('Lags')\n",
    "plt.ylabel('Correlation Coefficients')\n",
    "plt.title(\"ACF LAG for Absolute Log Returns\")"
   ]
  },
  {
   "cell_type": "code",
   "execution_count": 45,
   "metadata": {},
   "outputs": [],
   "source": [
    "s = pd.Series(df2['close'])"
   ]
  },
  {
   "cell_type": "code",
   "execution_count": 46,
   "metadata": {
    "scrolled": true
   },
   "outputs": [
    {
     "data": {
      "text/plain": [
       "0.9999848264063438"
      ]
     },
     "execution_count": 46,
     "metadata": {},
     "output_type": "execute_result"
    }
   ],
   "source": [
    "s.autocorr(lag=1)"
   ]
  },
  {
   "cell_type": "code",
   "execution_count": 47,
   "metadata": {},
   "outputs": [
    {
     "data": {
      "text/plain": [
       "0.9999711423897583"
      ]
     },
     "execution_count": 47,
     "metadata": {},
     "output_type": "execute_result"
    }
   ],
   "source": [
    "s.autocorr(lag=2) "
   ]
  },
  {
   "cell_type": "code",
   "execution_count": 48,
   "metadata": {},
   "outputs": [
    {
     "data": {
      "text/plain": [
       "0.9999575122751128"
      ]
     },
     "execution_count": 48,
     "metadata": {},
     "output_type": "execute_result"
    }
   ],
   "source": [
    "s.autocorr(lag=3) "
   ]
  },
  {
   "cell_type": "code",
   "execution_count": 49,
   "metadata": {},
   "outputs": [
    {
     "data": {
      "text/plain": [
       "0.9999441243669306"
      ]
     },
     "execution_count": 49,
     "metadata": {},
     "output_type": "execute_result"
    }
   ],
   "source": [
    "s.autocorr(lag=4) "
   ]
  },
  {
   "cell_type": "code",
   "execution_count": 50,
   "metadata": {},
   "outputs": [
    {
     "data": {
      "text/plain": [
       "0.9999304808049196"
      ]
     },
     "execution_count": 50,
     "metadata": {},
     "output_type": "execute_result"
    }
   ],
   "source": [
    "s.autocorr(lag=5)"
   ]
  },
  {
   "cell_type": "code",
   "execution_count": 51,
   "metadata": {},
   "outputs": [],
   "source": [
    "s = pd.Series(df2['logReturn'])"
   ]
  },
  {
   "cell_type": "code",
   "execution_count": 52,
   "metadata": {
    "scrolled": true
   },
   "outputs": [
    {
     "data": {
      "text/plain": [
       "-0.04896783163170285"
      ]
     },
     "execution_count": 52,
     "metadata": {},
     "output_type": "execute_result"
    }
   ],
   "source": [
    "s.autocorr(lag=1)"
   ]
  },
  {
   "cell_type": "code",
   "execution_count": 53,
   "metadata": {},
   "outputs": [
    {
     "data": {
      "text/plain": [
       "-0.0010664515922179606"
      ]
     },
     "execution_count": 53,
     "metadata": {},
     "output_type": "execute_result"
    }
   ],
   "source": [
    "s.autocorr(lag=2) "
   ]
  },
  {
   "cell_type": "code",
   "execution_count": 54,
   "metadata": {},
   "outputs": [
    {
     "data": {
      "text/plain": [
       "-0.008434453635048059"
      ]
     },
     "execution_count": 54,
     "metadata": {},
     "output_type": "execute_result"
    }
   ],
   "source": [
    "s.autocorr(lag=3) "
   ]
  },
  {
   "cell_type": "code",
   "execution_count": 55,
   "metadata": {},
   "outputs": [
    {
     "data": {
      "text/plain": [
       "0.009172065633724327"
      ]
     },
     "execution_count": 55,
     "metadata": {},
     "output_type": "execute_result"
    }
   ],
   "source": [
    "s.autocorr(lag=4) "
   ]
  },
  {
   "cell_type": "code",
   "execution_count": 56,
   "metadata": {},
   "outputs": [
    {
     "data": {
      "text/plain": [
       "-0.00797418808835451"
      ]
     },
     "execution_count": 56,
     "metadata": {},
     "output_type": "execute_result"
    }
   ],
   "source": [
    "s.autocorr(lag=5)"
   ]
  },
  {
   "cell_type": "code",
   "execution_count": 57,
   "metadata": {},
   "outputs": [
    {
     "data": {
      "text/html": [
       "<div>\n",
       "<style scoped>\n",
       "    .dataframe tbody tr th:only-of-type {\n",
       "        vertical-align: middle;\n",
       "    }\n",
       "\n",
       "    .dataframe tbody tr th {\n",
       "        vertical-align: top;\n",
       "    }\n",
       "\n",
       "    .dataframe thead th {\n",
       "        text-align: right;\n",
       "    }\n",
       "</style>\n",
       "<table border=\"1\" class=\"dataframe\">\n",
       "  <thead>\n",
       "    <tr style=\"text-align: right;\">\n",
       "      <th></th>\n",
       "      <th>close</th>\n",
       "      <th>logReturn</th>\n",
       "      <th>sqrd_return</th>\n",
       "      <th>abs_return</th>\n",
       "    </tr>\n",
       "    <tr>\n",
       "      <th>datetime</th>\n",
       "      <th></th>\n",
       "      <th></th>\n",
       "      <th></th>\n",
       "      <th></th>\n",
       "    </tr>\n",
       "  </thead>\n",
       "  <tbody>\n",
       "    <tr>\n",
       "      <th>2019-01-01 18:02:00</th>\n",
       "      <td>2501.25</td>\n",
       "      <td>NaN</td>\n",
       "      <td>NaN</td>\n",
       "      <td>NaN</td>\n",
       "    </tr>\n",
       "    <tr>\n",
       "      <th>2019-01-01 18:03:00</th>\n",
       "      <td>2504.50</td>\n",
       "      <td>0.001299</td>\n",
       "      <td>1.686120e-06</td>\n",
       "      <td>0.001299</td>\n",
       "    </tr>\n",
       "    <tr>\n",
       "      <th>2019-01-01 18:04:00</th>\n",
       "      <td>2508.50</td>\n",
       "      <td>0.001596</td>\n",
       "      <td>2.546741e-06</td>\n",
       "      <td>0.001596</td>\n",
       "    </tr>\n",
       "    <tr>\n",
       "      <th>2019-01-01 18:05:00</th>\n",
       "      <td>2507.25</td>\n",
       "      <td>-0.000498</td>\n",
       "      <td>2.484324e-07</td>\n",
       "      <td>0.000498</td>\n",
       "    </tr>\n",
       "    <tr>\n",
       "      <th>2019-01-01 18:06:00</th>\n",
       "      <td>2507.50</td>\n",
       "      <td>0.000100</td>\n",
       "      <td>9.941260e-09</td>\n",
       "      <td>0.000100</td>\n",
       "    </tr>\n",
       "    <tr>\n",
       "      <th>...</th>\n",
       "      <td>...</td>\n",
       "      <td>...</td>\n",
       "      <td>...</td>\n",
       "      <td>...</td>\n",
       "    </tr>\n",
       "    <tr>\n",
       "      <th>2019-05-17 08:45:00</th>\n",
       "      <td>2847.25</td>\n",
       "      <td>-0.000176</td>\n",
       "      <td>3.083277e-08</td>\n",
       "      <td>0.000176</td>\n",
       "    </tr>\n",
       "    <tr>\n",
       "      <th>2019-05-17 08:46:00</th>\n",
       "      <td>2847.50</td>\n",
       "      <td>0.000088</td>\n",
       "      <td>7.708869e-09</td>\n",
       "      <td>0.000088</td>\n",
       "    </tr>\n",
       "    <tr>\n",
       "      <th>2019-05-17 08:47:00</th>\n",
       "      <td>2847.00</td>\n",
       "      <td>-0.000176</td>\n",
       "      <td>3.083818e-08</td>\n",
       "      <td>0.000176</td>\n",
       "    </tr>\n",
       "    <tr>\n",
       "      <th>2019-05-17 08:48:00</th>\n",
       "      <td>2847.00</td>\n",
       "      <td>0.000000</td>\n",
       "      <td>0.000000e+00</td>\n",
       "      <td>0.000000</td>\n",
       "    </tr>\n",
       "    <tr>\n",
       "      <th>2019-05-17 08:49:00</th>\n",
       "      <td>2846.25</td>\n",
       "      <td>-0.000263</td>\n",
       "      <td>6.941639e-08</td>\n",
       "      <td>0.000263</td>\n",
       "    </tr>\n",
       "  </tbody>\n",
       "</table>\n",
       "<p>131072 rows × 4 columns</p>\n",
       "</div>"
      ],
      "text/plain": [
       "                       close  logReturn   sqrd_return  abs_return\n",
       "datetime                                                         \n",
       "2019-01-01 18:02:00  2501.25        NaN           NaN         NaN\n",
       "2019-01-01 18:03:00  2504.50   0.001299  1.686120e-06    0.001299\n",
       "2019-01-01 18:04:00  2508.50   0.001596  2.546741e-06    0.001596\n",
       "2019-01-01 18:05:00  2507.25  -0.000498  2.484324e-07    0.000498\n",
       "2019-01-01 18:06:00  2507.50   0.000100  9.941260e-09    0.000100\n",
       "...                      ...        ...           ...         ...\n",
       "2019-05-17 08:45:00  2847.25  -0.000176  3.083277e-08    0.000176\n",
       "2019-05-17 08:46:00  2847.50   0.000088  7.708869e-09    0.000088\n",
       "2019-05-17 08:47:00  2847.00  -0.000176  3.083818e-08    0.000176\n",
       "2019-05-17 08:48:00  2847.00   0.000000  0.000000e+00    0.000000\n",
       "2019-05-17 08:49:00  2846.25  -0.000263  6.941639e-08    0.000263\n",
       "\n",
       "[131072 rows x 4 columns]"
      ]
     },
     "execution_count": 57,
     "metadata": {},
     "output_type": "execute_result"
    }
   ],
   "source": [
    "df2"
   ]
  },
  {
   "cell_type": "code",
   "execution_count": 58,
   "metadata": {},
   "outputs": [],
   "source": [
    "s = pd.Series(df2['sqrd_return'])"
   ]
  },
  {
   "cell_type": "code",
   "execution_count": 59,
   "metadata": {
    "scrolled": true
   },
   "outputs": [
    {
     "data": {
      "text/plain": [
       "0.11856434139303887"
      ]
     },
     "execution_count": 59,
     "metadata": {},
     "output_type": "execute_result"
    }
   ],
   "source": [
    "s.autocorr(lag=1)"
   ]
  },
  {
   "cell_type": "code",
   "execution_count": 60,
   "metadata": {},
   "outputs": [
    {
     "data": {
      "text/plain": [
       "0.04851905176759404"
      ]
     },
     "execution_count": 60,
     "metadata": {},
     "output_type": "execute_result"
    }
   ],
   "source": [
    "s.autocorr(lag=2) "
   ]
  },
  {
   "cell_type": "code",
   "execution_count": 61,
   "metadata": {},
   "outputs": [
    {
     "data": {
      "text/plain": [
       "0.039075488752815836"
      ]
     },
     "execution_count": 61,
     "metadata": {},
     "output_type": "execute_result"
    }
   ],
   "source": [
    "s.autocorr(lag=3) "
   ]
  },
  {
   "cell_type": "code",
   "execution_count": 62,
   "metadata": {},
   "outputs": [
    {
     "data": {
      "text/plain": [
       "0.029239090845689295"
      ]
     },
     "execution_count": 62,
     "metadata": {},
     "output_type": "execute_result"
    }
   ],
   "source": [
    "s.autocorr(lag=4) "
   ]
  },
  {
   "cell_type": "code",
   "execution_count": 63,
   "metadata": {},
   "outputs": [
    {
     "data": {
      "text/plain": [
       "0.02807368301041367"
      ]
     },
     "execution_count": 63,
     "metadata": {},
     "output_type": "execute_result"
    }
   ],
   "source": [
    "s.autocorr(lag=5)"
   ]
  },
  {
   "cell_type": "code",
   "execution_count": 64,
   "metadata": {},
   "outputs": [],
   "source": [
    "s = pd.Series(df2['abs_return'])"
   ]
  },
  {
   "cell_type": "code",
   "execution_count": 65,
   "metadata": {
    "scrolled": true
   },
   "outputs": [
    {
     "data": {
      "text/plain": [
       "0.3254269831814768"
      ]
     },
     "execution_count": 65,
     "metadata": {},
     "output_type": "execute_result"
    }
   ],
   "source": [
    "s.autocorr(lag=1)"
   ]
  },
  {
   "cell_type": "code",
   "execution_count": 66,
   "metadata": {},
   "outputs": [
    {
     "data": {
      "text/plain": [
       "0.2886012258897097"
      ]
     },
     "execution_count": 66,
     "metadata": {},
     "output_type": "execute_result"
    }
   ],
   "source": [
    "s.autocorr(lag=2) "
   ]
  },
  {
   "cell_type": "code",
   "execution_count": 67,
   "metadata": {},
   "outputs": [
    {
     "data": {
      "text/plain": [
       "0.27325907297691476"
      ]
     },
     "execution_count": 67,
     "metadata": {},
     "output_type": "execute_result"
    }
   ],
   "source": [
    "s.autocorr(lag=3) "
   ]
  },
  {
   "cell_type": "code",
   "execution_count": 68,
   "metadata": {},
   "outputs": [
    {
     "data": {
      "text/plain": [
       "0.2626182868641103"
      ]
     },
     "execution_count": 68,
     "metadata": {},
     "output_type": "execute_result"
    }
   ],
   "source": [
    "s.autocorr(lag=4) "
   ]
  },
  {
   "cell_type": "code",
   "execution_count": 69,
   "metadata": {},
   "outputs": [
    {
     "data": {
      "text/plain": [
       "0.25865572994916536"
      ]
     },
     "execution_count": 69,
     "metadata": {},
     "output_type": "execute_result"
    }
   ],
   "source": [
    "s.autocorr(lag=5)"
   ]
  },
  {
   "cell_type": "code",
   "execution_count": null,
   "metadata": {},
   "outputs": [],
   "source": []
  },
  {
   "cell_type": "code",
   "execution_count": null,
   "metadata": {},
   "outputs": [],
   "source": []
  }
 ],
 "metadata": {
  "kernelspec": {
   "display_name": "Python 3",
   "language": "python",
   "name": "python3"
  },
  "language_info": {
   "codemirror_mode": {
    "name": "ipython",
    "version": 3
   },
   "file_extension": ".py",
   "mimetype": "text/x-python",
   "name": "python",
   "nbconvert_exporter": "python",
   "pygments_lexer": "ipython3",
   "version": "3.7.1"
  }
 },
 "nbformat": 4,
 "nbformat_minor": 2
}
