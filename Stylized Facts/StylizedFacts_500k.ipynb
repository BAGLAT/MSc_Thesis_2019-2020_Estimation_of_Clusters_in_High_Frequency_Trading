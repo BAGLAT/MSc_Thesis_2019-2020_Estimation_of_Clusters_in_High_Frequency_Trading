{
 "cells": [
  {
   "cell_type": "code",
   "execution_count": 1,
   "metadata": {},
   "outputs": [],
   "source": [
    "import pandas as pd\n",
    "import numpy as np\n",
    "import matplotlib.pyplot as plt\n",
    "import scipy.stats\n",
    "import pylab\n",
    "import statsmodels.graphics.tsaplots as sgt\n",
    "import seaborn as sns"
   ]
  },
  {
   "cell_type": "code",
   "execution_count": 2,
   "metadata": {},
   "outputs": [],
   "source": [
    "df = pd.read_csv(\"5lkh.csv\")"
   ]
  },
  {
   "cell_type": "code",
   "execution_count": 3,
   "metadata": {},
   "outputs": [
    {
     "data": {
      "text/html": [
       "<div>\n",
       "<style scoped>\n",
       "    .dataframe tbody tr th:only-of-type {\n",
       "        vertical-align: middle;\n",
       "    }\n",
       "\n",
       "    .dataframe tbody tr th {\n",
       "        vertical-align: top;\n",
       "    }\n",
       "\n",
       "    .dataframe thead th {\n",
       "        text-align: right;\n",
       "    }\n",
       "</style>\n",
       "<table border=\"1\" class=\"dataframe\">\n",
       "  <thead>\n",
       "    <tr style=\"text-align: right;\">\n",
       "      <th></th>\n",
       "      <th>datetime</th>\n",
       "      <th>close</th>\n",
       "    </tr>\n",
       "  </thead>\n",
       "  <tbody>\n",
       "    <tr>\n",
       "      <th>0</th>\n",
       "      <td>2019-01-01 18:02:00</td>\n",
       "      <td>2501.25</td>\n",
       "    </tr>\n",
       "    <tr>\n",
       "      <th>1</th>\n",
       "      <td>2019-01-01 18:03:00</td>\n",
       "      <td>2504.50</td>\n",
       "    </tr>\n",
       "    <tr>\n",
       "      <th>2</th>\n",
       "      <td>2019-01-01 18:04:00</td>\n",
       "      <td>2508.50</td>\n",
       "    </tr>\n",
       "    <tr>\n",
       "      <th>3</th>\n",
       "      <td>2019-01-01 18:05:00</td>\n",
       "      <td>2507.25</td>\n",
       "    </tr>\n",
       "    <tr>\n",
       "      <th>4</th>\n",
       "      <td>2019-01-01 18:06:00</td>\n",
       "      <td>2507.50</td>\n",
       "    </tr>\n",
       "    <tr>\n",
       "      <th>...</th>\n",
       "      <td>...</td>\n",
       "      <td>...</td>\n",
       "    </tr>\n",
       "    <tr>\n",
       "      <th>262139</th>\n",
       "      <td>2019-10-01 04:56:00</td>\n",
       "      <td>2969.25</td>\n",
       "    </tr>\n",
       "    <tr>\n",
       "      <th>262140</th>\n",
       "      <td>2019-10-01 04:57:00</td>\n",
       "      <td>2969.00</td>\n",
       "    </tr>\n",
       "    <tr>\n",
       "      <th>262141</th>\n",
       "      <td>2019-10-01 04:58:00</td>\n",
       "      <td>2969.00</td>\n",
       "    </tr>\n",
       "    <tr>\n",
       "      <th>262142</th>\n",
       "      <td>2019-10-01 04:59:00</td>\n",
       "      <td>2969.00</td>\n",
       "    </tr>\n",
       "    <tr>\n",
       "      <th>262143</th>\n",
       "      <td>2019-10-01 05:00:00</td>\n",
       "      <td>2968.50</td>\n",
       "    </tr>\n",
       "  </tbody>\n",
       "</table>\n",
       "<p>262144 rows × 2 columns</p>\n",
       "</div>"
      ],
      "text/plain": [
       "                   datetime    close\n",
       "0       2019-01-01 18:02:00  2501.25\n",
       "1       2019-01-01 18:03:00  2504.50\n",
       "2       2019-01-01 18:04:00  2508.50\n",
       "3       2019-01-01 18:05:00  2507.25\n",
       "4       2019-01-01 18:06:00  2507.50\n",
       "...                     ...      ...\n",
       "262139  2019-10-01 04:56:00  2969.25\n",
       "262140  2019-10-01 04:57:00  2969.00\n",
       "262141  2019-10-01 04:58:00  2969.00\n",
       "262142  2019-10-01 04:59:00  2969.00\n",
       "262143  2019-10-01 05:00:00  2968.50\n",
       "\n",
       "[262144 rows x 2 columns]"
      ]
     },
     "execution_count": 3,
     "metadata": {},
     "output_type": "execute_result"
    }
   ],
   "source": [
    "df"
   ]
  },
  {
   "cell_type": "code",
   "execution_count": 4,
   "metadata": {},
   "outputs": [],
   "source": [
    "df2 = df.set_index('datetime')"
   ]
  },
  {
   "cell_type": "code",
   "execution_count": 5,
   "metadata": {},
   "outputs": [
    {
     "data": {
      "text/html": [
       "<div>\n",
       "<style scoped>\n",
       "    .dataframe tbody tr th:only-of-type {\n",
       "        vertical-align: middle;\n",
       "    }\n",
       "\n",
       "    .dataframe tbody tr th {\n",
       "        vertical-align: top;\n",
       "    }\n",
       "\n",
       "    .dataframe thead th {\n",
       "        text-align: right;\n",
       "    }\n",
       "</style>\n",
       "<table border=\"1\" class=\"dataframe\">\n",
       "  <thead>\n",
       "    <tr style=\"text-align: right;\">\n",
       "      <th></th>\n",
       "      <th>close</th>\n",
       "    </tr>\n",
       "    <tr>\n",
       "      <th>datetime</th>\n",
       "      <th></th>\n",
       "    </tr>\n",
       "  </thead>\n",
       "  <tbody>\n",
       "    <tr>\n",
       "      <th>2019-01-01 18:02:00</th>\n",
       "      <td>2501.25</td>\n",
       "    </tr>\n",
       "    <tr>\n",
       "      <th>2019-01-01 18:03:00</th>\n",
       "      <td>2504.50</td>\n",
       "    </tr>\n",
       "    <tr>\n",
       "      <th>2019-01-01 18:04:00</th>\n",
       "      <td>2508.50</td>\n",
       "    </tr>\n",
       "    <tr>\n",
       "      <th>2019-01-01 18:05:00</th>\n",
       "      <td>2507.25</td>\n",
       "    </tr>\n",
       "    <tr>\n",
       "      <th>2019-01-01 18:06:00</th>\n",
       "      <td>2507.50</td>\n",
       "    </tr>\n",
       "    <tr>\n",
       "      <th>...</th>\n",
       "      <td>...</td>\n",
       "    </tr>\n",
       "    <tr>\n",
       "      <th>2019-10-01 04:56:00</th>\n",
       "      <td>2969.25</td>\n",
       "    </tr>\n",
       "    <tr>\n",
       "      <th>2019-10-01 04:57:00</th>\n",
       "      <td>2969.00</td>\n",
       "    </tr>\n",
       "    <tr>\n",
       "      <th>2019-10-01 04:58:00</th>\n",
       "      <td>2969.00</td>\n",
       "    </tr>\n",
       "    <tr>\n",
       "      <th>2019-10-01 04:59:00</th>\n",
       "      <td>2969.00</td>\n",
       "    </tr>\n",
       "    <tr>\n",
       "      <th>2019-10-01 05:00:00</th>\n",
       "      <td>2968.50</td>\n",
       "    </tr>\n",
       "  </tbody>\n",
       "</table>\n",
       "<p>262144 rows × 1 columns</p>\n",
       "</div>"
      ],
      "text/plain": [
       "                       close\n",
       "datetime                    \n",
       "2019-01-01 18:02:00  2501.25\n",
       "2019-01-01 18:03:00  2504.50\n",
       "2019-01-01 18:04:00  2508.50\n",
       "2019-01-01 18:05:00  2507.25\n",
       "2019-01-01 18:06:00  2507.50\n",
       "...                      ...\n",
       "2019-10-01 04:56:00  2969.25\n",
       "2019-10-01 04:57:00  2969.00\n",
       "2019-10-01 04:58:00  2969.00\n",
       "2019-10-01 04:59:00  2969.00\n",
       "2019-10-01 05:00:00  2968.50\n",
       "\n",
       "[262144 rows x 1 columns]"
      ]
     },
     "execution_count": 5,
     "metadata": {},
     "output_type": "execute_result"
    }
   ],
   "source": [
    "df2"
   ]
  },
  {
   "cell_type": "code",
   "execution_count": 6,
   "metadata": {},
   "outputs": [],
   "source": [
    "df2['logReturn'] = np.log(df2.close/df2.close.shift(1))"
   ]
  },
  {
   "cell_type": "code",
   "execution_count": 7,
   "metadata": {},
   "outputs": [],
   "source": [
    "df2['sqrd_return'] = df2['logReturn']**2"
   ]
  },
  {
   "cell_type": "code",
   "execution_count": 8,
   "metadata": {},
   "outputs": [],
   "source": [
    "df2['abs_return'] = df2['logReturn'].abs()"
   ]
  },
  {
   "cell_type": "code",
   "execution_count": 9,
   "metadata": {},
   "outputs": [
    {
     "data": {
      "text/html": [
       "<div>\n",
       "<style scoped>\n",
       "    .dataframe tbody tr th:only-of-type {\n",
       "        vertical-align: middle;\n",
       "    }\n",
       "\n",
       "    .dataframe tbody tr th {\n",
       "        vertical-align: top;\n",
       "    }\n",
       "\n",
       "    .dataframe thead th {\n",
       "        text-align: right;\n",
       "    }\n",
       "</style>\n",
       "<table border=\"1\" class=\"dataframe\">\n",
       "  <thead>\n",
       "    <tr style=\"text-align: right;\">\n",
       "      <th></th>\n",
       "      <th>close</th>\n",
       "      <th>logReturn</th>\n",
       "      <th>sqrd_return</th>\n",
       "      <th>abs_return</th>\n",
       "    </tr>\n",
       "    <tr>\n",
       "      <th>datetime</th>\n",
       "      <th></th>\n",
       "      <th></th>\n",
       "      <th></th>\n",
       "      <th></th>\n",
       "    </tr>\n",
       "  </thead>\n",
       "  <tbody>\n",
       "    <tr>\n",
       "      <th>2019-01-01 18:02:00</th>\n",
       "      <td>2501.25</td>\n",
       "      <td>NaN</td>\n",
       "      <td>NaN</td>\n",
       "      <td>NaN</td>\n",
       "    </tr>\n",
       "    <tr>\n",
       "      <th>2019-01-01 18:03:00</th>\n",
       "      <td>2504.50</td>\n",
       "      <td>0.001299</td>\n",
       "      <td>1.686120e-06</td>\n",
       "      <td>0.001299</td>\n",
       "    </tr>\n",
       "    <tr>\n",
       "      <th>2019-01-01 18:04:00</th>\n",
       "      <td>2508.50</td>\n",
       "      <td>0.001596</td>\n",
       "      <td>2.546741e-06</td>\n",
       "      <td>0.001596</td>\n",
       "    </tr>\n",
       "    <tr>\n",
       "      <th>2019-01-01 18:05:00</th>\n",
       "      <td>2507.25</td>\n",
       "      <td>-0.000498</td>\n",
       "      <td>2.484324e-07</td>\n",
       "      <td>0.000498</td>\n",
       "    </tr>\n",
       "    <tr>\n",
       "      <th>2019-01-01 18:06:00</th>\n",
       "      <td>2507.50</td>\n",
       "      <td>0.000100</td>\n",
       "      <td>9.941260e-09</td>\n",
       "      <td>0.000100</td>\n",
       "    </tr>\n",
       "    <tr>\n",
       "      <th>...</th>\n",
       "      <td>...</td>\n",
       "      <td>...</td>\n",
       "      <td>...</td>\n",
       "      <td>...</td>\n",
       "    </tr>\n",
       "    <tr>\n",
       "      <th>2019-10-01 04:56:00</th>\n",
       "      <td>2969.25</td>\n",
       "      <td>-0.000084</td>\n",
       "      <td>7.088428e-09</td>\n",
       "      <td>0.000084</td>\n",
       "    </tr>\n",
       "    <tr>\n",
       "      <th>2019-10-01 04:57:00</th>\n",
       "      <td>2969.00</td>\n",
       "      <td>-0.000084</td>\n",
       "      <td>7.089622e-09</td>\n",
       "      <td>0.000084</td>\n",
       "    </tr>\n",
       "    <tr>\n",
       "      <th>2019-10-01 04:58:00</th>\n",
       "      <td>2969.00</td>\n",
       "      <td>0.000000</td>\n",
       "      <td>0.000000e+00</td>\n",
       "      <td>0.000000</td>\n",
       "    </tr>\n",
       "    <tr>\n",
       "      <th>2019-10-01 04:59:00</th>\n",
       "      <td>2969.00</td>\n",
       "      <td>0.000000</td>\n",
       "      <td>0.000000e+00</td>\n",
       "      <td>0.000000</td>\n",
       "    </tr>\n",
       "    <tr>\n",
       "      <th>2019-10-01 05:00:00</th>\n",
       "      <td>2968.50</td>\n",
       "      <td>-0.000168</td>\n",
       "      <td>2.836565e-08</td>\n",
       "      <td>0.000168</td>\n",
       "    </tr>\n",
       "  </tbody>\n",
       "</table>\n",
       "<p>262144 rows × 4 columns</p>\n",
       "</div>"
      ],
      "text/plain": [
       "                       close  logReturn   sqrd_return  abs_return\n",
       "datetime                                                         \n",
       "2019-01-01 18:02:00  2501.25        NaN           NaN         NaN\n",
       "2019-01-01 18:03:00  2504.50   0.001299  1.686120e-06    0.001299\n",
       "2019-01-01 18:04:00  2508.50   0.001596  2.546741e-06    0.001596\n",
       "2019-01-01 18:05:00  2507.25  -0.000498  2.484324e-07    0.000498\n",
       "2019-01-01 18:06:00  2507.50   0.000100  9.941260e-09    0.000100\n",
       "...                      ...        ...           ...         ...\n",
       "2019-10-01 04:56:00  2969.25  -0.000084  7.088428e-09    0.000084\n",
       "2019-10-01 04:57:00  2969.00  -0.000084  7.089622e-09    0.000084\n",
       "2019-10-01 04:58:00  2969.00   0.000000  0.000000e+00    0.000000\n",
       "2019-10-01 04:59:00  2969.00   0.000000  0.000000e+00    0.000000\n",
       "2019-10-01 05:00:00  2968.50  -0.000168  2.836565e-08    0.000168\n",
       "\n",
       "[262144 rows x 4 columns]"
      ]
     },
     "execution_count": 9,
     "metadata": {},
     "output_type": "execute_result"
    }
   ],
   "source": [
    "df2"
   ]
  },
  {
   "cell_type": "code",
   "execution_count": 10,
   "metadata": {},
   "outputs": [
    {
     "data": {
      "text/plain": [
       "<matplotlib.axes._subplots.AxesSubplot at 0x2ca08a6d7f0>"
      ]
     },
     "execution_count": 10,
     "metadata": {},
     "output_type": "execute_result"
    },
    {
     "data": {
      "image/png": "[encoded data removed]",
      "text/plain": [
       "<Figure size 432x288 with 1 Axes>"
      ]
     },
     "metadata": {
      "needs_background": "light"
     },
     "output_type": "display_data"
    }
   ],
   "source": [
    "df2['logReturn'].plot()"
   ]
  },
  {
   "cell_type": "code",
   "execution_count": 11,
   "metadata": {},
   "outputs": [],
   "source": [
    "def zscore(returns):\n",
    "    return (returns-returns.mean())/np.std(returns)"
   ]
  },
  {
   "cell_type": "code",
   "execution_count": 12,
   "metadata": {},
   "outputs": [],
   "source": [
    "normalized = zscore(df2.logReturn)"
   ]
  },
  {
   "cell_type": "code",
   "execution_count": 13,
   "metadata": {},
   "outputs": [
    {
     "data": {
      "text/plain": [
       "Text(0, 0.5, 'Normalized Returns')"
      ]
     },
     "execution_count": 13,
     "metadata": {},
     "output_type": "execute_result"
    },
    {
     "name": "stderr",
     "output_type": "stream",
     "text": [
      "C:\\Users\\TAN\\Anaconda3\\lib\\site-packages\\IPython\\core\\events.py:88: UserWarning: Creating legend with loc=\"best\" can be slow with large amounts of data.\n",
      "  func(*args, **kwargs)\n",
      "C:\\Users\\TAN\\Anaconda3\\lib\\site-packages\\IPython\\core\\pylabtools.py:128: UserWarning: Creating legend with loc=\"best\" can be slow with large amounts of data.\n",
      "  fig.canvas.print_figure(bytes_io, **kw)\n"
     ]
    },
    {
     "data": {
      "image/png": "[encoded data removed]",
      "text/plain": [
       "<Figure size 1008x576 with 1 Axes>"
      ]
     },
     "metadata": {
      "needs_background": "light"
     },
     "output_type": "display_data"
    }
   ],
   "source": [
    "normalized.plot(figsize=(14,8),label='Standardized Returns',color='orange')\n",
    "plt.axhline(normalized.std()*3,color='blue',ls='--')\n",
    "plt.axhline(normalized.std()*5,color='black',ls='--')\n",
    "plt.axhline(normalized.std()*-5,color='black',label='5 SD',ls='--')\n",
    "plt.axhline(normalized.std()*-3,color='blue',label='3 SD',ls='--')\n",
    "plt.axhline(normalized.std(),color='red',ls='--')\n",
    "plt.axhline(normalized.std()*-1,color='red',ls='--',label='1 SD')\n",
    "plt.axhline(normalized.mean(),color='green',label='Mean')\n",
    "plt.legend()\n",
    "plt.ylabel(\"Normalized Returns\",size=10)"
   ]
  },
  {
   "cell_type": "code",
   "execution_count": 14,
   "metadata": {},
   "outputs": [
    {
     "data": {
      "text/plain": [
       "Text(0.5, 1.0, 'ACF LAG for Prices')"
      ]
     },
     "execution_count": 14,
     "metadata": {},
     "output_type": "execute_result"
    },
    {
     "data": {
      "text/plain": [
       "<Figure size 2160x1440 with 0 Axes>"
      ]
     },
     "metadata": {},
     "output_type": "display_data"
    },
    {
     "data": {
      "image/png": "[encoded data removed]",
      "text/plain": [
       "<Figure size 432x288 with 1 Axes>"
      ]
     },
     "metadata": {
      "needs_background": "light"
     },
     "output_type": "display_data"
    }
   ],
   "source": [
    "plt.figure(figsize = (30,20))\n",
    "sgt.plot_acf(df2.close,lags=40,zero=False)\n",
    "plt.xlabel('Lags')\n",
    "plt.ylabel('Correlation Coefficients')\n",
    "plt.title(\"ACF LAG for Prices\")"
   ]
  },
  {
   "cell_type": "code",
   "execution_count": 15,
   "metadata": {},
   "outputs": [
    {
     "data": {
      "text/plain": [
       "Text(0.5, 1.0, 'ACF LAG for Log Returns')"
      ]
     },
     "execution_count": 15,
     "metadata": {},
     "output_type": "execute_result"
    },
    {
     "data": {
      "text/plain": [
       "<Figure size 2160x1440 with 0 Axes>"
      ]
     },
     "metadata": {},
     "output_type": "display_data"
    },
    {
     "data": {
      "image/png": "[encoded data removed]",
      "text/plain": [
       "<Figure size 432x288 with 1 Axes>"
      ]
     },
     "metadata": {
      "needs_background": "light"
     },
     "output_type": "display_data"
    }
   ],
   "source": [
    "plt.figure(figsize = (30,20))\n",
    "sgt.plot_acf(df2.logReturn[1:],lags=40,zero=False)\n",
    "plt.xlabel('Lags')\n",
    "plt.ylabel('Correlation Coefficients')\n",
    "plt.title(\"ACF LAG for Log Returns\")"
   ]
  },
  {
   "cell_type": "code",
   "execution_count": 16,
   "metadata": {},
   "outputs": [
    {
     "data": {
      "text/plain": [
       "Text(0.5, 1.0, 'ACF LAG for Squarred Log Returns')"
      ]
     },
     "execution_count": 16,
     "metadata": {},
     "output_type": "execute_result"
    },
    {
     "data": {
      "text/plain": [
       "<Figure size 2160x1440 with 0 Axes>"
      ]
     },
     "metadata": {},
     "output_type": "display_data"
    },
    {
     "data": {
      "image/png": "[encoded data removed]",
      "text/plain": [
       "<Figure size 432x288 with 1 Axes>"
      ]
     },
     "metadata": {
      "needs_background": "light"
     },
     "output_type": "display_data"
    }
   ],
   "source": [
    "plt.figure(figsize = (30,20))\n",
    "sgt.plot_acf(df2.sqrd_return[1:],lags=40,zero=False)\n",
    "plt.xlabel('Lags')\n",
    "plt.ylabel('Correlation Coefficients')\n",
    "plt.title(\"ACF LAG for Squarred Log Returns\")"
   ]
  },
  {
   "cell_type": "code",
   "execution_count": 17,
   "metadata": {},
   "outputs": [],
   "source": [
    "#df2.to_csv(\"HFT_65536_Futures.csv\")"
   ]
  },
  {
   "cell_type": "code",
   "execution_count": 18,
   "metadata": {},
   "outputs": [
    {
     "data": {
      "text/plain": [
       "Text(0.5, 1.0, 'ACF LAG for Absolute Log Returns')"
      ]
     },
     "execution_count": 18,
     "metadata": {},
     "output_type": "execute_result"
    },
    {
     "data": {
      "text/plain": [
       "<Figure size 2160x1440 with 0 Axes>"
      ]
     },
     "metadata": {},
     "output_type": "display_data"
    },
    {
     "data": {
      "image/png": "[encoded data removed]",
      "text/plain": [
       "<Figure size 432x288 with 1 Axes>"
      ]
     },
     "metadata": {
      "needs_background": "light"
     },
     "output_type": "display_data"
    }
   ],
   "source": [
    "plt.figure(figsize = (30,20))\n",
    "sgt.plot_acf(df2.abs_return[1:],lags=40,zero=False)\n",
    "plt.xlabel('Lags')\n",
    "plt.ylabel('Correlation Coefficients')\n",
    "plt.title(\"ACF LAG for Absolute Log Returns\")"
   ]
  },
  {
   "cell_type": "code",
   "execution_count": 19,
   "metadata": {},
   "outputs": [],
   "source": [
    "s = pd.Series(df2['close'])"
   ]
  },
  {
   "cell_type": "code",
   "execution_count": 20,
   "metadata": {
    "scrolled": true
   },
   "outputs": [
    {
     "data": {
      "text/plain": [
       "0.9999844490097191"
      ]
     },
     "execution_count": 20,
     "metadata": {},
     "output_type": "execute_result"
    }
   ],
   "source": [
    "s.autocorr(lag=1)"
   ]
  },
  {
   "cell_type": "code",
   "execution_count": 21,
   "metadata": {},
   "outputs": [
    {
     "data": {
      "text/plain": [
       "0.999969968312313"
      ]
     },
     "execution_count": 21,
     "metadata": {},
     "output_type": "execute_result"
    }
   ],
   "source": [
    "s.autocorr(lag=2) "
   ]
  },
  {
   "cell_type": "code",
   "execution_count": 22,
   "metadata": {},
   "outputs": [
    {
     "data": {
      "text/plain": [
       "0.9999554833377392"
      ]
     },
     "execution_count": 22,
     "metadata": {},
     "output_type": "execute_result"
    }
   ],
   "source": [
    "s.autocorr(lag=3) "
   ]
  },
  {
   "cell_type": "code",
   "execution_count": 23,
   "metadata": {},
   "outputs": [
    {
     "data": {
      "text/plain": [
       "0.9999411916597751"
      ]
     },
     "execution_count": 23,
     "metadata": {},
     "output_type": "execute_result"
    }
   ],
   "source": [
    "s.autocorr(lag=4) "
   ]
  },
  {
   "cell_type": "code",
   "execution_count": 24,
   "metadata": {},
   "outputs": [
    {
     "data": {
      "text/plain": [
       "0.9999269458523597"
      ]
     },
     "execution_count": 24,
     "metadata": {},
     "output_type": "execute_result"
    }
   ],
   "source": [
    "s.autocorr(lag=5)"
   ]
  },
  {
   "cell_type": "code",
   "execution_count": 25,
   "metadata": {},
   "outputs": [],
   "source": [
    "s = pd.Series(df2['logReturn'])"
   ]
  },
  {
   "cell_type": "code",
   "execution_count": 26,
   "metadata": {
    "scrolled": true
   },
   "outputs": [
    {
     "data": {
      "text/plain": [
       "-0.03486044395419685"
      ]
     },
     "execution_count": 26,
     "metadata": {},
     "output_type": "execute_result"
    }
   ],
   "source": [
    "s.autocorr(lag=1)"
   ]
  },
  {
   "cell_type": "code",
   "execution_count": 27,
   "metadata": {},
   "outputs": [
    {
     "data": {
      "text/plain": [
       "0.00031510717803129355"
      ]
     },
     "execution_count": 27,
     "metadata": {},
     "output_type": "execute_result"
    }
   ],
   "source": [
    "s.autocorr(lag=2) "
   ]
  },
  {
   "cell_type": "code",
   "execution_count": 28,
   "metadata": {},
   "outputs": [
    {
     "data": {
      "text/plain": [
       "-0.006469570907478758"
      ]
     },
     "execution_count": 28,
     "metadata": {},
     "output_type": "execute_result"
    }
   ],
   "source": [
    "s.autocorr(lag=3) "
   ]
  },
  {
   "cell_type": "code",
   "execution_count": 29,
   "metadata": {},
   "outputs": [
    {
     "data": {
      "text/plain": [
       "-0.0005320790809266289"
      ]
     },
     "execution_count": 29,
     "metadata": {},
     "output_type": "execute_result"
    }
   ],
   "source": [
    "s.autocorr(lag=4) "
   ]
  },
  {
   "cell_type": "code",
   "execution_count": 30,
   "metadata": {},
   "outputs": [
    {
     "data": {
      "text/plain": [
       "-0.00848407442976978"
      ]
     },
     "execution_count": 30,
     "metadata": {},
     "output_type": "execute_result"
    }
   ],
   "source": [
    "s.autocorr(lag=5)"
   ]
  },
  {
   "cell_type": "code",
   "execution_count": 31,
   "metadata": {},
   "outputs": [
    {
     "data": {
      "text/html": [
       "<div>\n",
       "<style scoped>\n",
       "    .dataframe tbody tr th:only-of-type {\n",
       "        vertical-align: middle;\n",
       "    }\n",
       "\n",
       "    .dataframe tbody tr th {\n",
       "        vertical-align: top;\n",
       "    }\n",
       "\n",
       "    .dataframe thead th {\n",
       "        text-align: right;\n",
       "    }\n",
       "</style>\n",
       "<table border=\"1\" class=\"dataframe\">\n",
       "  <thead>\n",
       "    <tr style=\"text-align: right;\">\n",
       "      <th></th>\n",
       "      <th>close</th>\n",
       "      <th>logReturn</th>\n",
       "      <th>sqrd_return</th>\n",
       "      <th>abs_return</th>\n",
       "    </tr>\n",
       "    <tr>\n",
       "      <th>datetime</th>\n",
       "      <th></th>\n",
       "      <th></th>\n",
       "      <th></th>\n",
       "      <th></th>\n",
       "    </tr>\n",
       "  </thead>\n",
       "  <tbody>\n",
       "    <tr>\n",
       "      <th>2019-01-01 18:02:00</th>\n",
       "      <td>2501.25</td>\n",
       "      <td>NaN</td>\n",
       "      <td>NaN</td>\n",
       "      <td>NaN</td>\n",
       "    </tr>\n",
       "    <tr>\n",
       "      <th>2019-01-01 18:03:00</th>\n",
       "      <td>2504.50</td>\n",
       "      <td>0.001299</td>\n",
       "      <td>1.686120e-06</td>\n",
       "      <td>0.001299</td>\n",
       "    </tr>\n",
       "    <tr>\n",
       "      <th>2019-01-01 18:04:00</th>\n",
       "      <td>2508.50</td>\n",
       "      <td>0.001596</td>\n",
       "      <td>2.546741e-06</td>\n",
       "      <td>0.001596</td>\n",
       "    </tr>\n",
       "    <tr>\n",
       "      <th>2019-01-01 18:05:00</th>\n",
       "      <td>2507.25</td>\n",
       "      <td>-0.000498</td>\n",
       "      <td>2.484324e-07</td>\n",
       "      <td>0.000498</td>\n",
       "    </tr>\n",
       "    <tr>\n",
       "      <th>2019-01-01 18:06:00</th>\n",
       "      <td>2507.50</td>\n",
       "      <td>0.000100</td>\n",
       "      <td>9.941260e-09</td>\n",
       "      <td>0.000100</td>\n",
       "    </tr>\n",
       "    <tr>\n",
       "      <th>...</th>\n",
       "      <td>...</td>\n",
       "      <td>...</td>\n",
       "      <td>...</td>\n",
       "      <td>...</td>\n",
       "    </tr>\n",
       "    <tr>\n",
       "      <th>2019-10-01 04:56:00</th>\n",
       "      <td>2969.25</td>\n",
       "      <td>-0.000084</td>\n",
       "      <td>7.088428e-09</td>\n",
       "      <td>0.000084</td>\n",
       "    </tr>\n",
       "    <tr>\n",
       "      <th>2019-10-01 04:57:00</th>\n",
       "      <td>2969.00</td>\n",
       "      <td>-0.000084</td>\n",
       "      <td>7.089622e-09</td>\n",
       "      <td>0.000084</td>\n",
       "    </tr>\n",
       "    <tr>\n",
       "      <th>2019-10-01 04:58:00</th>\n",
       "      <td>2969.00</td>\n",
       "      <td>0.000000</td>\n",
       "      <td>0.000000e+00</td>\n",
       "      <td>0.000000</td>\n",
       "    </tr>\n",
       "    <tr>\n",
       "      <th>2019-10-01 04:59:00</th>\n",
       "      <td>2969.00</td>\n",
       "      <td>0.000000</td>\n",
       "      <td>0.000000e+00</td>\n",
       "      <td>0.000000</td>\n",
       "    </tr>\n",
       "    <tr>\n",
       "      <th>2019-10-01 05:00:00</th>\n",
       "      <td>2968.50</td>\n",
       "      <td>-0.000168</td>\n",
       "      <td>2.836565e-08</td>\n",
       "      <td>0.000168</td>\n",
       "    </tr>\n",
       "  </tbody>\n",
       "</table>\n",
       "<p>262144 rows × 4 columns</p>\n",
       "</div>"
      ],
      "text/plain": [
       "                       close  logReturn   sqrd_return  abs_return\n",
       "datetime                                                         \n",
       "2019-01-01 18:02:00  2501.25        NaN           NaN         NaN\n",
       "2019-01-01 18:03:00  2504.50   0.001299  1.686120e-06    0.001299\n",
       "2019-01-01 18:04:00  2508.50   0.001596  2.546741e-06    0.001596\n",
       "2019-01-01 18:05:00  2507.25  -0.000498  2.484324e-07    0.000498\n",
       "2019-01-01 18:06:00  2507.50   0.000100  9.941260e-09    0.000100\n",
       "...                      ...        ...           ...         ...\n",
       "2019-10-01 04:56:00  2969.25  -0.000084  7.088428e-09    0.000084\n",
       "2019-10-01 04:57:00  2969.00  -0.000084  7.089622e-09    0.000084\n",
       "2019-10-01 04:58:00  2969.00   0.000000  0.000000e+00    0.000000\n",
       "2019-10-01 04:59:00  2969.00   0.000000  0.000000e+00    0.000000\n",
       "2019-10-01 05:00:00  2968.50  -0.000168  2.836565e-08    0.000168\n",
       "\n",
       "[262144 rows x 4 columns]"
      ]
     },
     "execution_count": 31,
     "metadata": {},
     "output_type": "execute_result"
    }
   ],
   "source": [
    "df2"
   ]
  },
  {
   "cell_type": "code",
   "execution_count": 32,
   "metadata": {},
   "outputs": [],
   "source": [
    "s = pd.Series(df2['sqrd_return'])"
   ]
  },
  {
   "cell_type": "code",
   "execution_count": 33,
   "metadata": {
    "scrolled": true
   },
   "outputs": [
    {
     "data": {
      "text/plain": [
       "0.13715393769651338"
      ]
     },
     "execution_count": 33,
     "metadata": {},
     "output_type": "execute_result"
    }
   ],
   "source": [
    "s.autocorr(lag=1)"
   ]
  },
  {
   "cell_type": "code",
   "execution_count": 34,
   "metadata": {},
   "outputs": [
    {
     "data": {
      "text/plain": [
       "0.08017142013334083"
      ]
     },
     "execution_count": 34,
     "metadata": {},
     "output_type": "execute_result"
    }
   ],
   "source": [
    "s.autocorr(lag=2) "
   ]
  },
  {
   "cell_type": "code",
   "execution_count": 35,
   "metadata": {},
   "outputs": [
    {
     "data": {
      "text/plain": [
       "0.06281455952333703"
      ]
     },
     "execution_count": 35,
     "metadata": {},
     "output_type": "execute_result"
    }
   ],
   "source": [
    "s.autocorr(lag=3) "
   ]
  },
  {
   "cell_type": "code",
   "execution_count": 36,
   "metadata": {},
   "outputs": [
    {
     "data": {
      "text/plain": [
       "0.05166461697670161"
      ]
     },
     "execution_count": 36,
     "metadata": {},
     "output_type": "execute_result"
    }
   ],
   "source": [
    "s.autocorr(lag=4) "
   ]
  },
  {
   "cell_type": "code",
   "execution_count": 37,
   "metadata": {},
   "outputs": [
    {
     "data": {
      "text/plain": [
       "0.0461322897852874"
      ]
     },
     "execution_count": 37,
     "metadata": {},
     "output_type": "execute_result"
    }
   ],
   "source": [
    "s.autocorr(lag=5)"
   ]
  },
  {
   "cell_type": "code",
   "execution_count": 38,
   "metadata": {},
   "outputs": [],
   "source": [
    "s = pd.Series(df2['abs_return'])"
   ]
  },
  {
   "cell_type": "code",
   "execution_count": 39,
   "metadata": {
    "scrolled": true
   },
   "outputs": [
    {
     "data": {
      "text/plain": [
       "0.3347595875318524"
      ]
     },
     "execution_count": 39,
     "metadata": {},
     "output_type": "execute_result"
    }
   ],
   "source": [
    "s.autocorr(lag=1)"
   ]
  },
  {
   "cell_type": "code",
   "execution_count": 40,
   "metadata": {},
   "outputs": [
    {
     "data": {
      "text/plain": [
       "0.2988474670812927"
      ]
     },
     "execution_count": 40,
     "metadata": {},
     "output_type": "execute_result"
    }
   ],
   "source": [
    "s.autocorr(lag=2) "
   ]
  },
  {
   "cell_type": "code",
   "execution_count": 41,
   "metadata": {},
   "outputs": [
    {
     "data": {
      "text/plain": [
       "0.2800600139939538"
      ]
     },
     "execution_count": 41,
     "metadata": {},
     "output_type": "execute_result"
    }
   ],
   "source": [
    "s.autocorr(lag=3) "
   ]
  },
  {
   "cell_type": "code",
   "execution_count": 42,
   "metadata": {},
   "outputs": [
    {
     "data": {
      "text/plain": [
       "0.270248066029862"
      ]
     },
     "execution_count": 42,
     "metadata": {},
     "output_type": "execute_result"
    }
   ],
   "source": [
    "s.autocorr(lag=4) "
   ]
  },
  {
   "cell_type": "code",
   "execution_count": 43,
   "metadata": {},
   "outputs": [
    {
     "data": {
      "text/plain": [
       "0.26439875119723855"
      ]
     },
     "execution_count": 43,
     "metadata": {},
     "output_type": "execute_result"
    }
   ],
   "source": [
    "s.autocorr(lag=5)"
   ]
  },
  {
   "cell_type": "code",
   "execution_count": null,
   "metadata": {},
   "outputs": [],
   "source": []
  },
  {
   "cell_type": "code",
   "execution_count": null,
   "metadata": {},
   "outputs": [],
   "source": []
  }
 ],
 "metadata": {
  "kernelspec": {
   "display_name": "Python 3",
   "language": "python",
   "name": "python3"
  },
  "language_info": {
   "codemirror_mode": {
    "name": "ipython",
    "version": 3
   },
   "file_extension": ".py",
   "mimetype": "text/x-python",
   "name": "python",
   "nbconvert_exporter": "python",
   "pygments_lexer": "ipython3",
   "version": "3.7.1"
  }
 },
 "nbformat": 4,
 "nbformat_minor": 2
}
